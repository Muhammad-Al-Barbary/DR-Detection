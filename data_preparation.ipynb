{
  "cells": [
    {
      "cell_type": "code",
      "execution_count": 1,
      "metadata": {
        "colab": {
          "base_uri": "https://localhost:8080/"
        },
        "id": "lcJRaRbwfyXq",
        "outputId": "0428517a-b7d0-4616-ffa6-223beb5143a9"
      },
      "outputs": [],
      "source": [
        "import os\n",
        "import pandas as pd\n",
        "import os\n",
        "from PIL import Image\n",
        "from tqdm.auto import tqdm\n",
        "from sklearn.model_selection import train_test_split\n",
        "\n",
        "import numpy as np\n",
        "import torchvision.transforms as transforms\n",
        "from torch.autograd import Variable\n",
        "import torch\n",
        "import torch.nn as nn\n",
        "import torch.nn.functional as F\n",
        "# !pip install datasets\n",
        "from datasets import load_dataset\n",
        "import os\n",
        "\n"
      ]
    },
    {
      "cell_type": "code",
      "execution_count": null,
      "metadata": {},
      "outputs": [],
      "source": [
        "torch.cuda.empty_cache()\n",
        "import gc\n",
        "gc.collect()\n",
        "from pynvml import *\n",
        "nvmlInit()\n",
        "h = nvmlDeviceGetHandleByIndex(0)\n",
        "info = nvmlDeviceGetMemoryInfo(h)\n",
        "print(f'total    : {info.total}')\n",
        "print(f'free     : {info.free}')\n",
        "print(f'used     : {info.used}')\n"
      ]
    },
    {
      "cell_type": "code",
      "execution_count": null,
      "metadata": {
        "colab": {
          "base_uri": "https://localhost:8080/"
        },
        "id": "c6x872Bdf-50",
        "outputId": "91fcf3ce-ec0d-422f-9f6d-d859775696fc"
      },
      "outputs": [],
      "source": []
    },
    {
      "cell_type": "code",
      "execution_count": null,
      "metadata": {
        "colab": {
          "base_uri": "https://localhost:8080/"
        },
        "id": "J4MPiczUZ9ob",
        "outputId": "bf5934df-bf02-4e51-dc56-d197aa5e0cd5"
      },
      "outputs": [],
      "source": [
        "os.environ['KAGGLE_USERNAME'] = \"\" # username from the json file\n",
        "os.environ['KAGGLE_KEY'] = \"\"\n",
        "!kaggle competitions download -c diabetic-retinopathy-detection -f train.zip.004\n",
        "!kaggle competitions download -c diabetic-retinopathy-detection -f trainLabels.csv.zip"
      ]
    },
    {
      "cell_type": "code",
      "execution_count": null,
      "metadata": {
        "colab": {
          "base_uri": "https://localhost:8080/"
        },
        "id": "mHDeAyoyZ9qS",
        "outputId": "3d1785d5-d890-478e-e1b3-ef1575c0d45e"
      },
      "outputs": [],
      "source": [
        "! unzip \"trainLabels.csv.zip\"\n",
        "! unzip \"train.zip.004.zip\""
      ]
    },
    {
      "cell_type": "code",
      "execution_count": null,
      "metadata": {
        "colab": {
          "base_uri": "https://localhost:8080/"
        },
        "id": "_bl8K_8_Z9uU",
        "outputId": "1767463c-79c8-4626-947a-a5463b92da6f"
      },
      "outputs": [],
      "source": [
        "!apt install p7zip-full -y\n",
        "!7z x train.zip.004\n",
        "!ls train | wc -l #print number of images\n",
        "!ls train"
      ]
    },
    {
      "cell_type": "code",
      "execution_count": 2,
      "metadata": {
        "colab": {
          "base_uri": "https://localhost:8080/"
        },
        "id": "J1RjEQZFZ9v1",
        "outputId": "6416144a-df71-401a-87a2-299fd9e56601"
      },
      "outputs": [
        {
          "name": "stdout",
          "output_type": "stream",
          "text": [
            "8414 images found of 35126 total\n"
          ]
        },
        {
          "name": "stderr",
          "output_type": "stream",
          "text": [
            "2023-01-06 16:48:53.071118: I tensorflow/core/platform/cpu_feature_guard.cc:193] This TensorFlow binary is optimized with oneAPI Deep Neural Network Library (oneDNN) to use the following CPU instructions in performance-critical operations:  AVX2 FMA\n",
            "To enable them in other operations, rebuild TensorFlow with the appropriate compiler flags.\n",
            "2023-01-06 16:48:53.651873: W tensorflow/compiler/xla/stream_executor/platform/default/dso_loader.cc:64] Could not load dynamic library 'libnvinfer.so.7'; dlerror: libnvinfer.so.7: cannot open shared object file: No such file or directory\n",
            "2023-01-06 16:48:53.651923: W tensorflow/compiler/xla/stream_executor/platform/default/dso_loader.cc:64] Could not load dynamic library 'libnvinfer_plugin.so.7'; dlerror: libnvinfer_plugin.so.7: cannot open shared object file: No such file or directory\n",
            "2023-01-06 16:48:53.651928: W tensorflow/compiler/tf2tensorrt/utils/py_utils.cc:38] TF-TRT Warning: Cannot dlopen some TensorRT libraries. If you would like to use Nvidia GPU with TensorRT, please make sure the missing libraries mentioned above are installed properly.\n"
          ]
        },
        {
          "data": {
            "text/html": [
              "<div>\n",
              "<style scoped>\n",
              "    .dataframe tbody tr th:only-of-type {\n",
              "        vertical-align: middle;\n",
              "    }\n",
              "\n",
              "    .dataframe tbody tr th {\n",
              "        vertical-align: top;\n",
              "    }\n",
              "\n",
              "    .dataframe thead th {\n",
              "        text-align: right;\n",
              "    }\n",
              "</style>\n",
              "<table border=\"1\" class=\"dataframe\">\n",
              "  <thead>\n",
              "    <tr style=\"text-align: right;\">\n",
              "      <th></th>\n",
              "      <th>image</th>\n",
              "      <th>level</th>\n",
              "      <th>PatientId</th>\n",
              "      <th>path</th>\n",
              "      <th>exists</th>\n",
              "      <th>eye</th>\n",
              "      <th>level_cat</th>\n",
              "    </tr>\n",
              "  </thead>\n",
              "  <tbody>\n",
              "    <tr>\n",
              "      <th>5512</th>\n",
              "      <td>6943_left</td>\n",
              "      <td>0</td>\n",
              "      <td>6943</td>\n",
              "      <td>/home/workstation04/GP_LiverSegmentation_Meena...</td>\n",
              "      <td>True</td>\n",
              "      <td>1</td>\n",
              "      <td>[1.0, 0.0, 0.0, 0.0, 0.0]</td>\n",
              "    </tr>\n",
              "    <tr>\n",
              "      <th>3264</th>\n",
              "      <td>4069_left</td>\n",
              "      <td>0</td>\n",
              "      <td>4069</td>\n",
              "      <td>/home/workstation04/GP_LiverSegmentation_Meena...</td>\n",
              "      <td>True</td>\n",
              "      <td>1</td>\n",
              "      <td>[1.0, 0.0, 0.0, 0.0, 0.0]</td>\n",
              "    </tr>\n",
              "    <tr>\n",
              "      <th>34994</th>\n",
              "      <td>44199_left</td>\n",
              "      <td>3</td>\n",
              "      <td>44199</td>\n",
              "      <td>/home/workstation04/GP_LiverSegmentation_Meena...</td>\n",
              "      <td>True</td>\n",
              "      <td>1</td>\n",
              "      <td>[0.0, 0.0, 0.0, 1.0, 0.0]</td>\n",
              "    </tr>\n",
              "    <tr>\n",
              "      <th>31792</th>\n",
              "      <td>40153_left</td>\n",
              "      <td>0</td>\n",
              "      <td>40153</td>\n",
              "      <td>/home/workstation04/GP_LiverSegmentation_Meena...</td>\n",
              "      <td>True</td>\n",
              "      <td>1</td>\n",
              "      <td>[1.0, 0.0, 0.0, 0.0, 0.0]</td>\n",
              "    </tr>\n",
              "    <tr>\n",
              "      <th>5804</th>\n",
              "      <td>7315_left</td>\n",
              "      <td>0</td>\n",
              "      <td>7315</td>\n",
              "      <td>/home/workstation04/GP_LiverSegmentation_Meena...</td>\n",
              "      <td>True</td>\n",
              "      <td>1</td>\n",
              "      <td>[1.0, 0.0, 0.0, 0.0, 0.0]</td>\n",
              "    </tr>\n",
              "    <tr>\n",
              "      <th>34835</th>\n",
              "      <td>44013_right</td>\n",
              "      <td>0</td>\n",
              "      <td>44013</td>\n",
              "      <td>/home/workstation04/GP_LiverSegmentation_Meena...</td>\n",
              "      <td>True</td>\n",
              "      <td>0</td>\n",
              "      <td>[1.0, 0.0, 0.0, 0.0, 0.0]</td>\n",
              "    </tr>\n",
              "    <tr>\n",
              "      <th>33270</th>\n",
              "      <td>42020_left</td>\n",
              "      <td>1</td>\n",
              "      <td>42020</td>\n",
              "      <td>/home/workstation04/GP_LiverSegmentation_Meena...</td>\n",
              "      <td>True</td>\n",
              "      <td>1</td>\n",
              "      <td>[0.0, 1.0, 0.0, 0.0, 0.0]</td>\n",
              "    </tr>\n",
              "    <tr>\n",
              "      <th>5214</th>\n",
              "      <td>6555_left</td>\n",
              "      <td>0</td>\n",
              "      <td>6555</td>\n",
              "      <td>/home/workstation04/GP_LiverSegmentation_Meena...</td>\n",
              "      <td>True</td>\n",
              "      <td>1</td>\n",
              "      <td>[1.0, 0.0, 0.0, 0.0, 0.0]</td>\n",
              "    </tr>\n",
              "    <tr>\n",
              "      <th>34436</th>\n",
              "      <td>43523_left</td>\n",
              "      <td>0</td>\n",
              "      <td>43523</td>\n",
              "      <td>/home/workstation04/GP_LiverSegmentation_Meena...</td>\n",
              "      <td>True</td>\n",
              "      <td>1</td>\n",
              "      <td>[1.0, 0.0, 0.0, 0.0, 0.0]</td>\n",
              "    </tr>\n",
              "    <tr>\n",
              "      <th>32678</th>\n",
              "      <td>41263_left</td>\n",
              "      <td>0</td>\n",
              "      <td>41263</td>\n",
              "      <td>/home/workstation04/GP_LiverSegmentation_Meena...</td>\n",
              "      <td>True</td>\n",
              "      <td>1</td>\n",
              "      <td>[1.0, 0.0, 0.0, 0.0, 0.0]</td>\n",
              "    </tr>\n",
              "  </tbody>\n",
              "</table>\n",
              "</div>"
            ],
            "text/plain": [
              "             image  level PatientId  \\\n",
              "5512     6943_left      0      6943   \n",
              "3264     4069_left      0      4069   \n",
              "34994   44199_left      3     44199   \n",
              "31792   40153_left      0     40153   \n",
              "5804     7315_left      0      7315   \n",
              "34835  44013_right      0     44013   \n",
              "33270   42020_left      1     42020   \n",
              "5214     6555_left      0      6555   \n",
              "34436   43523_left      0     43523   \n",
              "32678   41263_left      0     41263   \n",
              "\n",
              "                                                    path  exists  eye  \\\n",
              "5512   /home/workstation04/GP_LiverSegmentation_Meena...    True    1   \n",
              "3264   /home/workstation04/GP_LiverSegmentation_Meena...    True    1   \n",
              "34994  /home/workstation04/GP_LiverSegmentation_Meena...    True    1   \n",
              "31792  /home/workstation04/GP_LiverSegmentation_Meena...    True    1   \n",
              "5804   /home/workstation04/GP_LiverSegmentation_Meena...    True    1   \n",
              "34835  /home/workstation04/GP_LiverSegmentation_Meena...    True    0   \n",
              "33270  /home/workstation04/GP_LiverSegmentation_Meena...    True    1   \n",
              "5214   /home/workstation04/GP_LiverSegmentation_Meena...    True    1   \n",
              "34436  /home/workstation04/GP_LiverSegmentation_Meena...    True    1   \n",
              "32678  /home/workstation04/GP_LiverSegmentation_Meena...    True    1   \n",
              "\n",
              "                       level_cat  \n",
              "5512   [1.0, 0.0, 0.0, 0.0, 0.0]  \n",
              "3264   [1.0, 0.0, 0.0, 0.0, 0.0]  \n",
              "34994  [0.0, 0.0, 0.0, 1.0, 0.0]  \n",
              "31792  [1.0, 0.0, 0.0, 0.0, 0.0]  \n",
              "5804   [1.0, 0.0, 0.0, 0.0, 0.0]  \n",
              "34835  [1.0, 0.0, 0.0, 0.0, 0.0]  \n",
              "33270  [0.0, 1.0, 0.0, 0.0, 0.0]  \n",
              "5214   [1.0, 0.0, 0.0, 0.0, 0.0]  \n",
              "34436  [1.0, 0.0, 0.0, 0.0, 0.0]  \n",
              "32678  [1.0, 0.0, 0.0, 0.0, 0.0]  "
            ]
          },
          "execution_count": 2,
          "metadata": {},
          "output_type": "execute_result"
        }
      ],
      "source": [
        "base_image_dir = \"/home/workstation04/GP_LiverSegmentation_MeenaMakary/deeplearning/train\"\n",
        "retina_df = pd.read_csv(\"/home/workstation04/GP_LiverSegmentation_MeenaMakary/deeplearning/trainLabels.csv\")\n",
        "retina_df['PatientId'] = retina_df['image'].map(lambda x: x.split('_')[0])\n",
        "retina_df['path'] = retina_df['image'].map(lambda x: os.path.join(base_image_dir,\n",
        "                                                         '{}.jpeg'.format(x)))\n",
        "retina_df['exists'] = retina_df['path'].map(os.path.exists)\n",
        "print(retina_df['exists'].sum(), 'images found of', retina_df.shape[0], 'total')\n",
        "retina_df['eye'] = retina_df['image'].map(lambda x: 1 if x.split('_')[-1]=='left' else 0)\n",
        "from keras.utils.np_utils import to_categorical\n",
        "retina_df['level_cat'] = retina_df['level'].map(lambda x: to_categorical(x, 1+retina_df['level'].max()))\n",
        "\n",
        "retina_df.dropna(inplace = True)\n",
        "retina_df = retina_df[retina_df['exists']]\n",
        "retina_df.sample(10)"
      ]
    },
    {
      "cell_type": "code",
      "execution_count": 4,
      "metadata": {},
      "outputs": [],
      "source": [
        "\n",
        "def balance_data(class_size,df): # a function to balance our data\n",
        "    balanced_data_df = df.groupby(['level']).apply(lambda x: x.sample(class_size, replace = True)).reset_index(drop = True)\n",
        "    balanced_data_df = balanced_data_df.sample(frac=1).reset_index(drop=True)\n",
        "    print('New Data Size:', balanced_data_df.shape[0], 'Old Size:', df.shape[0])\n",
        "    balanced_data_df['level'].hist(figsize = (10, 5))\n",
        "    return balanced_data_df"
      ]
    },
    {
      "cell_type": "code",
      "execution_count": 3,
      "metadata": {},
      "outputs": [
        {
          "data": {
            "text/html": [
              "<div>\n",
              "<style scoped>\n",
              "    .dataframe tbody tr th:only-of-type {\n",
              "        vertical-align: middle;\n",
              "    }\n",
              "\n",
              "    .dataframe tbody tr th {\n",
              "        vertical-align: top;\n",
              "    }\n",
              "\n",
              "    .dataframe thead th {\n",
              "        text-align: right;\n",
              "    }\n",
              "</style>\n",
              "<table border=\"1\" class=\"dataframe\">\n",
              "  <thead>\n",
              "    <tr style=\"text-align: right;\">\n",
              "      <th></th>\n",
              "      <th>PatientId</th>\n",
              "      <th>exists</th>\n",
              "      <th>eye</th>\n",
              "      <th>image</th>\n",
              "      <th>level_cat</th>\n",
              "      <th>path</th>\n",
              "    </tr>\n",
              "    <tr>\n",
              "      <th>level</th>\n",
              "      <th></th>\n",
              "      <th></th>\n",
              "      <th></th>\n",
              "      <th></th>\n",
              "      <th></th>\n",
              "      <th></th>\n",
              "    </tr>\n",
              "  </thead>\n",
              "  <tbody>\n",
              "    <tr>\n",
              "      <th>0</th>\n",
              "      <td>6182</td>\n",
              "      <td>6182</td>\n",
              "      <td>6182</td>\n",
              "      <td>6182</td>\n",
              "      <td>6182</td>\n",
              "      <td>6182</td>\n",
              "    </tr>\n",
              "    <tr>\n",
              "      <th>1</th>\n",
              "      <td>623</td>\n",
              "      <td>623</td>\n",
              "      <td>623</td>\n",
              "      <td>623</td>\n",
              "      <td>623</td>\n",
              "      <td>623</td>\n",
              "    </tr>\n",
              "    <tr>\n",
              "      <th>2</th>\n",
              "      <td>1282</td>\n",
              "      <td>1282</td>\n",
              "      <td>1282</td>\n",
              "      <td>1282</td>\n",
              "      <td>1282</td>\n",
              "      <td>1282</td>\n",
              "    </tr>\n",
              "    <tr>\n",
              "      <th>3</th>\n",
              "      <td>177</td>\n",
              "      <td>177</td>\n",
              "      <td>177</td>\n",
              "      <td>177</td>\n",
              "      <td>177</td>\n",
              "      <td>177</td>\n",
              "    </tr>\n",
              "    <tr>\n",
              "      <th>4</th>\n",
              "      <td>150</td>\n",
              "      <td>150</td>\n",
              "      <td>150</td>\n",
              "      <td>150</td>\n",
              "      <td>150</td>\n",
              "      <td>150</td>\n",
              "    </tr>\n",
              "  </tbody>\n",
              "</table>\n",
              "</div>"
            ],
            "text/plain": [
              "       PatientId  exists   eye  image  level_cat  path\n",
              "level                                                 \n",
              "0           6182    6182  6182   6182       6182  6182\n",
              "1            623     623   623    623        623   623\n",
              "2           1282    1282  1282   1282       1282  1282\n",
              "3            177     177   177    177        177   177\n",
              "4            150     150   150    150        150   150"
            ]
          },
          "execution_count": 3,
          "metadata": {},
          "output_type": "execute_result"
        }
      ],
      "source": [
        "retina_df.pivot_table(index='level', aggfunc=len) # old unbalanced data\n"
      ]
    },
    {
      "cell_type": "code",
      "execution_count": 5,
      "metadata": {},
      "outputs": [
        {
          "data": {
            "text/plain": [
              "<AxesSubplot:>"
            ]
          },
          "execution_count": 5,
          "metadata": {},
          "output_type": "execute_result"
        },
        {
          "data": {
            "image/png": "[encoded data removed]",
            "text/plain": [
              "<Figure size 1000x500 with 1 Axes>"
            ]
          },
          "metadata": {},
          "output_type": "display_data"
        }
      ],
      "source": [
        "retina_df['level'].hist(figsize = (10, 5))"
      ]
    },
    {
      "cell_type": "code",
      "execution_count": 11,
      "metadata": {
        "colab": {
          "base_uri": "https://localhost:8080/",
          "height": 380
        },
        "id": "UjdQW6qRZ9zz",
        "outputId": "7e9f7654-3055-411f-f7a4-ee827a9a0e4a"
      },
      "outputs": [
        {
          "name": "stdout",
          "output_type": "stream",
          "text": [
            "New Data Size: 750 Old Size: 8414\n"
          ]
        },
        {
          "data": {
            "image/png": "[encoded data removed]",
            "text/plain": [
              "<Figure size 1000x500 with 1 Axes>"
            ]
          },
          "metadata": {},
          "output_type": "display_data"
        }
      ],
      "source": [
        "balanced_retina_df = balance_data(retina_df.pivot_table(index='level', aggfunc=len).min().min(),retina_df)  # balance with class_size = minimum class value to avoid duplicatation of the data\n"
      ]
    },
    {
      "cell_type": "code",
      "execution_count": 12,
      "metadata": {},
      "outputs": [
        {
          "data": {
            "text/html": [
              "<div>\n",
              "<style scoped>\n",
              "    .dataframe tbody tr th:only-of-type {\n",
              "        vertical-align: middle;\n",
              "    }\n",
              "\n",
              "    .dataframe tbody tr th {\n",
              "        vertical-align: top;\n",
              "    }\n",
              "\n",
              "    .dataframe thead th {\n",
              "        text-align: right;\n",
              "    }\n",
              "</style>\n",
              "<table border=\"1\" class=\"dataframe\">\n",
              "  <thead>\n",
              "    <tr style=\"text-align: right;\">\n",
              "      <th></th>\n",
              "      <th>PatientId</th>\n",
              "      <th>exists</th>\n",
              "      <th>eye</th>\n",
              "      <th>image</th>\n",
              "      <th>level_cat</th>\n",
              "      <th>path</th>\n",
              "    </tr>\n",
              "    <tr>\n",
              "      <th>level</th>\n",
              "      <th></th>\n",
              "      <th></th>\n",
              "      <th></th>\n",
              "      <th></th>\n",
              "      <th></th>\n",
              "      <th></th>\n",
              "    </tr>\n",
              "  </thead>\n",
              "  <tbody>\n",
              "    <tr>\n",
              "      <th>0</th>\n",
              "      <td>150</td>\n",
              "      <td>150</td>\n",
              "      <td>150</td>\n",
              "      <td>150</td>\n",
              "      <td>150</td>\n",
              "      <td>150</td>\n",
              "    </tr>\n",
              "    <tr>\n",
              "      <th>1</th>\n",
              "      <td>150</td>\n",
              "      <td>150</td>\n",
              "      <td>150</td>\n",
              "      <td>150</td>\n",
              "      <td>150</td>\n",
              "      <td>150</td>\n",
              "    </tr>\n",
              "    <tr>\n",
              "      <th>2</th>\n",
              "      <td>150</td>\n",
              "      <td>150</td>\n",
              "      <td>150</td>\n",
              "      <td>150</td>\n",
              "      <td>150</td>\n",
              "      <td>150</td>\n",
              "    </tr>\n",
              "    <tr>\n",
              "      <th>3</th>\n",
              "      <td>150</td>\n",
              "      <td>150</td>\n",
              "      <td>150</td>\n",
              "      <td>150</td>\n",
              "      <td>150</td>\n",
              "      <td>150</td>\n",
              "    </tr>\n",
              "    <tr>\n",
              "      <th>4</th>\n",
              "      <td>150</td>\n",
              "      <td>150</td>\n",
              "      <td>150</td>\n",
              "      <td>150</td>\n",
              "      <td>150</td>\n",
              "      <td>150</td>\n",
              "    </tr>\n",
              "  </tbody>\n",
              "</table>\n",
              "</div>"
            ],
            "text/plain": [
              "       PatientId  exists  eye  image  level_cat  path\n",
              "level                                                \n",
              "0            150     150  150    150        150   150\n",
              "1            150     150  150    150        150   150\n",
              "2            150     150  150    150        150   150\n",
              "3            150     150  150    150        150   150\n",
              "4            150     150  150    150        150   150"
            ]
          },
          "execution_count": 12,
          "metadata": {},
          "output_type": "execute_result"
        }
      ],
      "source": [
        "balanced_retina_df.pivot_table(index='level', aggfunc=len) # new balanced data\n"
      ]
    },
    {
      "cell_type": "code",
      "execution_count": null,
      "metadata": {
        "id": "BggKLOraZ952"
      },
      "outputs": [],
      "source": [
        "## saving balanced data on device for general use\n",
        "def get_label_and_image(path):\n",
        "  name= path.split('/')[-1].split('.')[0]\n",
        "\n",
        "  label=balanced_retina_df[\"level\"].loc[balanced_retina_df['image'] == name].values[0]\n",
        "  image=Image.open(path)\n",
        "  return image,label\n",
        "\n",
        "\n",
        "train_ds={\"image\":[],\n",
        "            \"label\":[]}\n",
        "\n",
        "paths=balanced_retina_df[\"path\"]\n",
        "for path in paths:\n",
        "  image,label=get_label_and_image(path)\n",
        "  train_ds[\"image\"].append(image)\n",
        "  train_ds[\"label\"].append(label)\n",
        "from datasets import Dataset\n",
        "dataset = Dataset.from_dict(train_ds)\n",
        "dataset.save_to_disk(\"/home/workstation04/GP_LiverSegmentation_MeenaMakary/deeplearning/model_data\")\n",
        "\n"
      ]
    },
    {
      "cell_type": "code",
      "execution_count": null,
      "metadata": {
        "colab": {
          "base_uri": "https://localhost:8080/",
          "height": 337
        },
        "id": "MAF71cmBZ97u",
        "outputId": "e97c8162-23be-4b67-a3a5-3b4766f5f3a7"
      },
      "outputs": [],
      "source": [
        "# writing balanced data on drive each class in its directory\n",
        "import shutil\n",
        "\n",
        "dataset_path=\"/content/drive/MyDrive/Diabetic Retinopathy Detection/Dataset/\"\n",
        "folders= ['No DR', 'Mild','Moderate','Severe','Proliferative']\n",
        "for i in range(len(balanced_retina_df[\"level_cat\"])):\n",
        "  image=balanced_retina_df['path'][i]\n",
        "  label=balanced_retina_df['level'][i]\n",
        "  folder=folders[label]\n",
        "  image_path=dataset_path+folder+f\"/{i}_{label}.jpeg\"\n",
        "  shutil.copyfile(image, image_path)"
      ]
    }
  ],
  "metadata": {
    "accelerator": "GPU",
    "colab": {
      "provenance": []
    },
    "gpuClass": "standard",
    "kernelspec": {
      "display_name": "base",
      "language": "python",
      "name": "python3"
    },
    "language_info": {
      "codemirror_mode": {
        "name": "ipython",
        "version": 3
      },
      "file_extension": ".py",
      "mimetype": "text/x-python",
      "name": "python",
      "nbconvert_exporter": "python",
      "pygments_lexer": "ipython3",
      "version": "3.9.13"
    },
    "vscode": {
      "interpreter": {
        "hash": "c64157bbfa2465440e45acd319df9c40d460161c688976d35d8a397c250ab5da"
      }
    },
    "widgets": {
      "application/vnd.jupyter.widget-state+json": {
        "0ece609f037144d194e42666999446c5": {
          "model_module": "@jupyter-widgets/controls",
          "model_module_version": "1.5.0",
          "model_name": "HTMLModel",
          "state": {
            "_dom_classes": [],
            "_model_module": "@jupyter-widgets/controls",
            "_model_module_version": "1.5.0",
            "_model_name": "HTMLModel",
            "_view_count": null,
            "_view_module": "@jupyter-widgets/controls",
            "_view_module_version": "1.5.0",
            "_view_name": "HTMLView",
            "description": "",
            "description_tooltip": null,
            "layout": "IPY_MODEL_b5dce795c1804e6484029e5e81f61e9c",
            "placeholder": "​",
            "style": "IPY_MODEL_116fbcddfca74b9c8c166d09d7636798",
            "value": " 10000/10000 [01:47&lt;00:00, 99.84 examples/s]"
          }
        },
        "116fbcddfca74b9c8c166d09d7636798": {
          "model_module": "@jupyter-widgets/controls",
          "model_module_version": "1.5.0",
          "model_name": "DescriptionStyleModel",
          "state": {
            "_model_module": "@jupyter-widgets/controls",
            "_model_module_version": "1.5.0",
            "_model_name": "DescriptionStyleModel",
            "_view_count": null,
            "_view_module": "@jupyter-widgets/base",
            "_view_module_version": "1.2.0",
            "_view_name": "StyleView",
            "description_width": ""
          }
        },
        "3ed615294d49492abd4092e050c96704": {
          "model_module": "@jupyter-widgets/controls",
          "model_module_version": "1.5.0",
          "model_name": "FloatProgressModel",
          "state": {
            "_dom_classes": [],
            "_model_module": "@jupyter-widgets/controls",
            "_model_module_version": "1.5.0",
            "_model_name": "FloatProgressModel",
            "_view_count": null,
            "_view_module": "@jupyter-widgets/controls",
            "_view_module_version": "1.5.0",
            "_view_name": "ProgressView",
            "bar_style": "",
            "description": "",
            "description_tooltip": null,
            "layout": "IPY_MODEL_aea784e160924250b0d8c07b1404fe62",
            "max": 10000,
            "min": 0,
            "orientation": "horizontal",
            "style": "IPY_MODEL_e35955ec86564d9493311e89333bd3de",
            "value": 10000
          }
        },
        "70c21ad08691433d906b21f95f1e65f4": {
          "model_module": "@jupyter-widgets/controls",
          "model_module_version": "1.5.0",
          "model_name": "HTMLModel",
          "state": {
            "_dom_classes": [],
            "_model_module": "@jupyter-widgets/controls",
            "_model_module_version": "1.5.0",
            "_model_name": "HTMLModel",
            "_view_count": null,
            "_view_module": "@jupyter-widgets/controls",
            "_view_module_version": "1.5.0",
            "_view_name": "HTMLView",
            "description": "",
            "description_tooltip": null,
            "layout": "IPY_MODEL_b7afddab545c48efb9aeb33b8e425a78",
            "placeholder": "​",
            "style": "IPY_MODEL_da5ec45116824225abf3cdf0b39c1342",
            "value": "Saving the dataset (23/23 shards): 100%"
          }
        },
        "aea784e160924250b0d8c07b1404fe62": {
          "model_module": "@jupyter-widgets/base",
          "model_module_version": "1.2.0",
          "model_name": "LayoutModel",
          "state": {
            "_model_module": "@jupyter-widgets/base",
            "_model_module_version": "1.2.0",
            "_model_name": "LayoutModel",
            "_view_count": null,
            "_view_module": "@jupyter-widgets/base",
            "_view_module_version": "1.2.0",
            "_view_name": "LayoutView",
            "align_content": null,
            "align_items": null,
            "align_self": null,
            "border": null,
            "bottom": null,
            "display": null,
            "flex": null,
            "flex_flow": null,
            "grid_area": null,
            "grid_auto_columns": null,
            "grid_auto_flow": null,
            "grid_auto_rows": null,
            "grid_column": null,
            "grid_gap": null,
            "grid_row": null,
            "grid_template_areas": null,
            "grid_template_columns": null,
            "grid_template_rows": null,
            "height": null,
            "justify_content": null,
            "justify_items": null,
            "left": null,
            "margin": null,
            "max_height": null,
            "max_width": null,
            "min_height": null,
            "min_width": null,
            "object_fit": null,
            "object_position": null,
            "order": null,
            "overflow": null,
            "overflow_x": null,
            "overflow_y": null,
            "padding": null,
            "right": null,
            "top": null,
            "visibility": null,
            "width": null
          }
        },
        "b5dce795c1804e6484029e5e81f61e9c": {
          "model_module": "@jupyter-widgets/base",
          "model_module_version": "1.2.0",
          "model_name": "LayoutModel",
          "state": {
            "_model_module": "@jupyter-widgets/base",
            "_model_module_version": "1.2.0",
            "_model_name": "LayoutModel",
            "_view_count": null,
            "_view_module": "@jupyter-widgets/base",
            "_view_module_version": "1.2.0",
            "_view_name": "LayoutView",
            "align_content": null,
            "align_items": null,
            "align_self": null,
            "border": null,
            "bottom": null,
            "display": null,
            "flex": null,
            "flex_flow": null,
            "grid_area": null,
            "grid_auto_columns": null,
            "grid_auto_flow": null,
            "grid_auto_rows": null,
            "grid_column": null,
            "grid_gap": null,
            "grid_row": null,
            "grid_template_areas": null,
            "grid_template_columns": null,
            "grid_template_rows": null,
            "height": null,
            "justify_content": null,
            "justify_items": null,
            "left": null,
            "margin": null,
            "max_height": null,
            "max_width": null,
            "min_height": null,
            "min_width": null,
            "object_fit": null,
            "object_position": null,
            "order": null,
            "overflow": null,
            "overflow_x": null,
            "overflow_y": null,
            "padding": null,
            "right": null,
            "top": null,
            "visibility": null,
            "width": null
          }
        },
        "b7afddab545c48efb9aeb33b8e425a78": {
          "model_module": "@jupyter-widgets/base",
          "model_module_version": "1.2.0",
          "model_name": "LayoutModel",
          "state": {
            "_model_module": "@jupyter-widgets/base",
            "_model_module_version": "1.2.0",
            "_model_name": "LayoutModel",
            "_view_count": null,
            "_view_module": "@jupyter-widgets/base",
            "_view_module_version": "1.2.0",
            "_view_name": "LayoutView",
            "align_content": null,
            "align_items": null,
            "align_self": null,
            "border": null,
            "bottom": null,
            "display": null,
            "flex": null,
            "flex_flow": null,
            "grid_area": null,
            "grid_auto_columns": null,
            "grid_auto_flow": null,
            "grid_auto_rows": null,
            "grid_column": null,
            "grid_gap": null,
            "grid_row": null,
            "grid_template_areas": null,
            "grid_template_columns": null,
            "grid_template_rows": null,
            "height": null,
            "justify_content": null,
            "justify_items": null,
            "left": null,
            "margin": null,
            "max_height": null,
            "max_width": null,
            "min_height": null,
            "min_width": null,
            "object_fit": null,
            "object_position": null,
            "order": null,
            "overflow": null,
            "overflow_x": null,
            "overflow_y": null,
            "padding": null,
            "right": null,
            "top": null,
            "visibility": null,
            "width": null
          }
        },
        "c054a1c290de43e19a5b87b356056398": {
          "model_module": "@jupyter-widgets/base",
          "model_module_version": "1.2.0",
          "model_name": "LayoutModel",
          "state": {
            "_model_module": "@jupyter-widgets/base",
            "_model_module_version": "1.2.0",
            "_model_name": "LayoutModel",
            "_view_count": null,
            "_view_module": "@jupyter-widgets/base",
            "_view_module_version": "1.2.0",
            "_view_name": "LayoutView",
            "align_content": null,
            "align_items": null,
            "align_self": null,
            "border": null,
            "bottom": null,
            "display": null,
            "flex": null,
            "flex_flow": null,
            "grid_area": null,
            "grid_auto_columns": null,
            "grid_auto_flow": null,
            "grid_auto_rows": null,
            "grid_column": null,
            "grid_gap": null,
            "grid_row": null,
            "grid_template_areas": null,
            "grid_template_columns": null,
            "grid_template_rows": null,
            "height": null,
            "justify_content": null,
            "justify_items": null,
            "left": null,
            "margin": null,
            "max_height": null,
            "max_width": null,
            "min_height": null,
            "min_width": null,
            "object_fit": null,
            "object_position": null,
            "order": null,
            "overflow": null,
            "overflow_x": null,
            "overflow_y": null,
            "padding": null,
            "right": null,
            "top": null,
            "visibility": "hidden",
            "width": null
          }
        },
        "d42b57e861c94135aa560bce32a7a37c": {
          "model_module": "@jupyter-widgets/controls",
          "model_module_version": "1.5.0",
          "model_name": "HBoxModel",
          "state": {
            "_dom_classes": [],
            "_model_module": "@jupyter-widgets/controls",
            "_model_module_version": "1.5.0",
            "_model_name": "HBoxModel",
            "_view_count": null,
            "_view_module": "@jupyter-widgets/controls",
            "_view_module_version": "1.5.0",
            "_view_name": "HBoxView",
            "box_style": "",
            "children": [
              "IPY_MODEL_70c21ad08691433d906b21f95f1e65f4",
              "IPY_MODEL_3ed615294d49492abd4092e050c96704",
              "IPY_MODEL_0ece609f037144d194e42666999446c5"
            ],
            "layout": "IPY_MODEL_c054a1c290de43e19a5b87b356056398"
          }
        },
        "da5ec45116824225abf3cdf0b39c1342": {
          "model_module": "@jupyter-widgets/controls",
          "model_module_version": "1.5.0",
          "model_name": "DescriptionStyleModel",
          "state": {
            "_model_module": "@jupyter-widgets/controls",
            "_model_module_version": "1.5.0",
            "_model_name": "DescriptionStyleModel",
            "_view_count": null,
            "_view_module": "@jupyter-widgets/base",
            "_view_module_version": "1.2.0",
            "_view_name": "StyleView",
            "description_width": ""
          }
        },
        "e35955ec86564d9493311e89333bd3de": {
          "model_module": "@jupyter-widgets/controls",
          "model_module_version": "1.5.0",
          "model_name": "ProgressStyleModel",
          "state": {
            "_model_module": "@jupyter-widgets/controls",
            "_model_module_version": "1.5.0",
            "_model_name": "ProgressStyleModel",
            "_view_count": null,
            "_view_module": "@jupyter-widgets/base",
            "_view_module_version": "1.2.0",
            "_view_name": "StyleView",
            "bar_color": null,
            "description_width": ""
          }
        }
      }
    }
  },
  "nbformat": 4,
  "nbformat_minor": 0
}
